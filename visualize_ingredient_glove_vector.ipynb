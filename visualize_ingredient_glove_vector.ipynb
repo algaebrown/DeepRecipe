{
 "cells": [
  {
   "cell_type": "code",
   "execution_count": 1,
   "id": "e9468b60",
   "metadata": {},
   "outputs": [],
   "source": [
    "import numpy as np\n",
    "import pickle\n",
    "glove_path = '/home/hsher/glove/'\n",
    "npzfile = np.load(f'{glove_path}/6B.50_words.npz')\n",
    "vectors = npzfile['arr_0']\n",
    "#vectors.flush()\n",
    "words = pickle.load(open(f'{glove_path}/6B.50_words.pkl', 'rb'))\n",
    "word2idx = pickle.load(open(f'{glove_path}/6B.50_idx.pkl', 'rb'))\n",
    "glove = {w: vectors[word2idx[w]] for w in words}"
   ]
  },
  {
   "cell_type": "code",
   "execution_count": 2,
   "id": "38a06bf1",
   "metadata": {},
   "outputs": [
    {
     "data": {
      "text/plain": [
       "(400001, 50)"
      ]
     },
     "execution_count": 2,
     "metadata": {},
     "output_type": "execute_result"
    }
   ],
   "source": [
    "vectors.shape"
   ]
  },
  {
   "cell_type": "code",
   "execution_count": 3,
   "id": "ee12379c",
   "metadata": {},
   "outputs": [
    {
     "data": {
      "text/plain": [
       "400001"
      ]
     },
     "execution_count": 3,
     "metadata": {},
     "output_type": "execute_result"
    }
   ],
   "source": [
    "len(words)"
   ]
  },
  {
   "cell_type": "code",
   "execution_count": 4,
   "id": "aa36c0bf",
   "metadata": {},
   "outputs": [],
   "source": [
    "# load ingredients\n",
    "with open('train_ing_count.pickle', 'rb') as f:\n",
    "    all_ing=pickle.load( f)"
   ]
  },
  {
   "cell_type": "code",
   "execution_count": 5,
   "id": "a4cfd2ac",
   "metadata": {},
   "outputs": [
    {
     "data": {
      "text/plain": [
       "6093"
      ]
     },
     "execution_count": 5,
     "metadata": {},
     "output_type": "execute_result"
    }
   ],
   "source": [
    "len(all_ing)"
   ]
  },
  {
   "cell_type": "code",
   "execution_count": 6,
   "id": "e536106d",
   "metadata": {},
   "outputs": [
    {
     "name": "stdout",
     "output_type": "stream",
     "text": [
      "katakuriko dont exist\n",
      "2% dont exist\n",
      "confectioners' dont exist\n",
      "panir dont exist\n",
      "avocadoes dont exist\n",
      "2% dont exist\n",
      "lime, dont exist\n",
      "limes, dont exist\n",
      "80% dont exist\n",
      "kirschwasser dont exist\n",
      "tubetti dont exist\n",
      "lemon, dont exist\n",
      "ditalini dont exist\n",
      " dont exist\n",
      "lawry's dont exist\n",
      "98% dont exist\n",
      "phoron dont exist\n",
      "panang dont exist\n",
      "lemon, dont exist\n",
      "breakstone's dont exist\n",
      "baker's dont exist\n",
      "orange, dont exist\n",
      "craisins dont exist\n",
      "rigate dont exist\n",
      "konnyaku dont exist\n",
      "hersheys dont exist\n",
      "90% dont exist\n",
      "sucanat dont exist\n",
      "nutmeats dont exist\n",
      "oelek dont exist\n",
      "9\" dont exist\n",
      "courgettes dont exist\n",
      "momokawa dont exist\n",
      "devil's dont exist\n",
      "peapods dont exist\n",
      "lemon, dont exist\n",
      "funghi dont exist\n",
      "bocconcini dont exist\n",
      "konbu dont exist\n",
      "1% dont exist\n",
      "arils dont exist\n",
      "frank's dont exist\n",
      "pepperoncini dont exist\n",
      "m's dont exist\n",
      "komatsuna dont exist\n",
      "aminos dont exist\n",
      "mirlitons dont exist\n",
      "acini dont exist\n",
      "limes, dont exist\n",
      "mccormick's dont exist\n",
      "mochiko dont exist\n",
      "fideos dont exist\n",
      "borlotti dont exist\n",
      "aminos dont exist\n",
      "besan dont exist\n",
      "mccormick's dont exist\n",
      "9\" dont exist\n",
      "campbell's dont exist\n",
      "bird's dont exist\n",
      "champignon dont exist\n",
      "funfetti dont exist\n",
      "pimm's dont exist\n",
      "mostaccioli dont exist\n",
      "knackwurst dont exist\n",
      "courgette dont exist\n",
      "a.1. dont exist\n",
      "mexicorn dont exist\n",
      "lemons, dont exist\n",
      "mostaccioli dont exist\n",
      "chi's dont exist\n",
      "liempo dont exist\n",
      "niblets dont exist\n",
      "crispix dont exist\n",
      "emmenthaler dont exist\n",
      "libby's dont exist\n",
      "chayotes dont exist\n",
      "hanout dont exist\n",
      "cardamoms dont exist\n",
      "lemons, dont exist\n",
      "ketjap dont exist\n",
      "truvia dont exist\n",
      "35% dont exist\n",
      "2% dont exist\n",
      "2% dont exist\n",
      "adzuki dont exist\n",
      "reese's dont exist\n",
      "spatchcock dont exist\n",
      "craisins dont exist\n",
      "ladyfinger dont exist\n",
      "risoni dont exist\n",
      "damsons dont exist\n",
      "cavatappi dont exist\n",
      "rotelle dont exist\n",
      "m's dont exist\n",
      "caperberries dont exist\n",
      "honeydews dont exist\n",
      "unsulphured dont exist\n",
      "passata dont exist\n",
      "lime, dont exist\n",
      "pattypan dont exist\n",
      "noyaux dont exist\n",
      "screwpine dont exist\n",
      "shimeji dont exist\n",
      "drummettes dont exist\n",
      "escalopes dont exist\n",
      "shirataki dont exist\n",
      "15% dont exist\n",
      "marrows dont exist\n",
      "sazon dont exist\n",
      "pappadams dont exist\n",
      "cubanelle dont exist\n",
      "amarula dont exist\n",
      "methi dont exist\n",
      "1% dont exist\n",
      "pig's dont exist\n",
      "cavenders dont exist\n",
      "jonagold dont exist\n",
      "ditali dont exist\n",
      "dragees dont exist\n",
      "2% dont exist\n",
      "18% dont exist\n",
      "peppadew dont exist\n",
      "sopressata dont exist\n",
      "besan dont exist\n",
      "oelek dont exist\n",
      "ditalini dont exist\n",
      "shishito dont exist\n",
      "pickapeppa dont exist\n",
      "amarena dont exist\n",
      "campbell's dont exist\n",
      "nigari dont exist\n",
      "mitsuba dont exist\n",
      "yacon dont exist\n",
      "shortcrust dont exist\n",
      "perciatelli dont exist\n",
      "kluski dont exist\n",
      "keen's dont exist\n",
      "2% dont exist\n",
      "mizithra dont exist\n",
      "goat's dont exist\n",
      "wattleseed dont exist\n",
      "riberry dont exist\n",
      "1% dont exist\n",
      "yamaimo dont exist\n",
      "french's dont exist\n",
      "soppressata dont exist\n",
      "scallopini dont exist\n",
      "shoepeg dont exist\n",
      "linguica dont exist\n",
      "french's dont exist\n",
      "tostados dont exist\n",
      "nopalitos dont exist\n",
      "rose's dont exist\n",
      "capicola dont exist\n",
      "hellmann's dont exist\n",
      "kremelta dont exist\n",
      "chachere's dont exist\n",
      "rindless dont exist\n",
      "kamaboko dont exist\n",
      "jeera dont exist\n",
      "butterkase dont exist\n",
      "capsicums dont exist\n",
      "spumanti dont exist\n",
      "chourico dont exist\n",
      "impastata dont exist\n",
      "dijonnaise dont exist\n",
      "cardamoms dont exist\n",
      "brisee dont exist\n",
      "baharat dont exist\n",
      "dukkah dont exist\n",
      "cherrystone dont exist\n",
      "n' dont exist\n",
      "better'n dont exist\n",
      "m' dont exist\n",
      "10% dont exist\n",
      "orange, dont exist\n",
      "butterhead dont exist\n",
      "sazon dont exist\n",
      "togarashi dont exist\n",
      "tubetti dont exist\n",
      "kasseri dont exist\n",
      "nutmegs dont exist\n",
      "orgeat dont exist\n",
      "comice dont exist\n",
      "goat's dont exist\n",
      "rondele dont exist\n",
      "devil's dont exist\n",
      "hershey's dont exist\n",
      "brococoli dont exist\n",
      "knockwurst dont exist\n",
      "emeril's dont exist\n",
      "niblets dont exist\n",
      "reese's dont exist\n",
      "kefalotiri dont exist\n",
      "shimeji dont exist\n",
      "m's dont exist\n",
      "radiatore dont exist\n",
      "paad dont exist\n",
      "mccormick's dont exist\n",
      "epices dont exist\n",
      "culantro dont exist\n",
      "orange, dont exist\n",
      "amchur dont exist\n",
      "boar's dont exist\n",
      "ovengold dont exist\n",
      "m's dont exist\n"
     ]
    }
   ],
   "source": [
    "# create ing -> embedding list\n",
    "ing_list = []\n",
    "ing_vectors = []\n",
    "for n, ing in enumerate(all_ing):\n",
    "    sum_embedding = np.zeros(50)\n",
    "    ing_list.append(ing)\n",
    "    for word in ing.split(' '):\n",
    "        try:\n",
    "            sum_embedding += glove[word]\n",
    "        except:\n",
    "            print(f'{word} dont exist')\n",
    "    ing_vectors.append(sum_embedding)\n",
    "    \n",
    "    #if n>500:\n",
    "    #    break\n",
    "ing_vectors = np.stack(ing_vectors)"
   ]
  },
  {
   "cell_type": "code",
   "execution_count": 7,
   "id": "c7dafa92",
   "metadata": {},
   "outputs": [],
   "source": [
    "import numpy as np\n",
    "from sklearn.manifold import TSNE\n",
    "\n",
    "ingd_embedded = TSNE(n_components=2, \n",
    "               init='random').fit_transform(ing_vectors.astype(float))"
   ]
  },
  {
   "cell_type": "code",
   "execution_count": 8,
   "id": "6cbed478",
   "metadata": {},
   "outputs": [
    {
     "data": {
      "text/plain": [
       "(6093, 2)"
      ]
     },
     "execution_count": 8,
     "metadata": {},
     "output_type": "execute_result"
    }
   ],
   "source": [
    "ingd_embedded.shape"
   ]
  },
  {
   "cell_type": "code",
   "execution_count": 9,
   "id": "c3c645a7",
   "metadata": {},
   "outputs": [
    {
     "data": {
      "text/plain": [
       "Text(0, 0.5, 't-SNE-2')"
      ]
     },
     "execution_count": 9,
     "metadata": {},
     "output_type": "execute_result"
    },
    {
     "data": {
      "image/png": "[encoded data removed]",
      "text/plain": [
       "<Figure size 432x288 with 1 Axes>"
      ]
     },
     "metadata": {
      "needs_background": "light"
     },
     "output_type": "display_data"
    }
   ],
   "source": [
    "import matplotlib.pyplot as plt\n",
    "plt.scatter(x = ingd_embedded[:,0], y = ingd_embedded[:,1], color = 'lightgrey', marker = '.')\n",
    "\n",
    "for idx, name in enumerate(ing_list):\n",
    "    if 'cheese' in name:\n",
    "        x,y = ingd_embedded[idx,:]\n",
    "        #plt.text(x,y,name)\n",
    "        plt.scatter(x = x, y = y, color = 'gold', marker = '.', label = 'cheese')\n",
    "    if 'pork' in name or 'beef' in name or 'bacon' in name:\n",
    "        x,y = ingd_embedded[idx,:]\n",
    "        #plt.text(x,y,name)\n",
    "        plt.scatter(x = x, y = y, color = 'brown', marker = '.', label = 'meat')\n",
    "    if 'tomato' in name or 'onion' in name:\n",
    "        x,y = ingd_embedded[idx,:]\n",
    "        #plt.text(x,y,name)\n",
    "        plt.scatter(x = x, y = y, color = 'tomato', marker = '.', label = 'vegetable')\n",
    "    if 'grape' in name or 'berry' in name or 'apple' in name:\n",
    "        x,y = ingd_embedded[idx,:]\n",
    "        #plt.text(x,y,name)\n",
    "        plt.scatter(x = x, y = y, color = 'orchid', marker = '.', label = 'fruit')\n",
    "    if 'sugar' in name or 'salt' in name:\n",
    "        x,y = ingd_embedded[idx,:]\n",
    "        #plt.text(x,y,name)\n",
    "        plt.scatter(x = x, y = y, color = 'grey', marker = '.', label = 'sugar/salt')\n",
    "    if 'baking' in name or 'flour' in name:\n",
    "        x,y = ingd_embedded[idx,:]\n",
    "        #plt.text(x,y,name)\n",
    "        plt.scatter(x = x, y = y, color = 'rosybrown', marker = '.', label = 'baking')\n",
    "\n",
    "\n",
    "handles, labels = plt.gca().get_legend_handles_labels()\n",
    "by_label = dict(zip(labels, handles))\n",
    "plt.legend(by_label.values(), by_label.keys(), bbox_to_anchor=(1.3,1))\n",
    "\n",
    "plt.xlabel('t-SNE-1')\n",
    "plt.ylabel('t-SNE-2')"
   ]
  },
  {
   "cell_type": "code",
   "execution_count": null,
   "id": "7eb4f2fb",
   "metadata": {},
   "outputs": [],
   "source": []
  },
  {
   "cell_type": "code",
   "execution_count": null,
   "id": "e341f11b",
   "metadata": {},
   "outputs": [],
   "source": []
  }
 ],
 "metadata": {
  "kernelspec": {
   "display_name": "Python 3 (clean)",
   "language": "python",
   "name": "python3_clean"
  },
  "language_info": {
   "codemirror_mode": {
    "name": "ipython",
    "version": 3
   },
   "file_extension": ".py",
   "mimetype": "text/x-python",
   "name": "python",
   "nbconvert_exporter": "python",
   "pygments_lexer": "ipython3",
   "version": "3.9.5"
  }
 },
 "nbformat": 4,
 "nbformat_minor": 5
}
