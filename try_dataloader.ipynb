{
 "cells": [
  {
   "cell_type": "code",
   "execution_count": 1,
   "id": "09378ad6",
   "metadata": {},
   "outputs": [],
   "source": [
    "from dataloader import *"
   ]
  },
  {
   "cell_type": "code",
   "execution_count": 2,
   "id": "50ebbceb",
   "metadata": {},
   "outputs": [
    {
     "name": "stdout",
     "output_type": "stream",
     "text": [
      "C:\\Users\\pkgau\\anaconda3\\Lib\\site-packages\n"
     ]
    }
   ],
   "source": [
    "from distutils.sysconfig import get_python_lib\n",
    "print(get_python_lib())"
   ]
  },
  {
   "cell_type": "code",
   "execution_count": 3,
   "id": "540c8089",
   "metadata": {},
   "outputs": [],
   "source": [
    "import json\n",
    "config_data = json.load(open('default.json', 'r'))"
   ]
  },
  {
   "cell_type": "code",
   "execution_count": 4,
   "id": "a355aaef",
   "metadata": {},
   "outputs": [
    {
     "name": "stdout",
     "output_type": "stream",
     "text": [
      "Using the saved vocab.\n"
     ]
    },
    {
     "name": "stderr",
     "output_type": "stream",
     "text": [
      "C:\\Users\\pkgau\\anaconda3\\lib\\site-packages\\torchvision\\transforms\\transforms.py:287: UserWarning: Argument interpolation should be of type InterpolationMode instead of int. Please, use InterpolationMode enum.\n",
      "  warnings.warn(\n"
     ]
    }
   ],
   "source": [
    "vocab, train_data_loader, val_data_loader, test_data_loader = get_datasets(config_data)"
   ]
  },
  {
   "cell_type": "code",
   "execution_count": 5,
   "id": "f39db47f",
   "metadata": {},
   "outputs": [
    {
     "data": {
      "text/plain": [
       "<torch.utils.data.dataloader.DataLoader at 0x273b18cc550>"
      ]
     },
     "execution_count": 5,
     "metadata": {},
     "output_type": "execute_result"
    }
   ],
   "source": [
    "train_data_loader"
   ]
  },
  {
   "cell_type": "code",
   "execution_count": 6,
   "id": "55c3167e",
   "metadata": {},
   "outputs": [],
   "source": [
    "for i, (images, ingt, title, ing, ins, img_id) in enumerate(train_data_loader):\n",
    "    break"
   ]
  },
  {
   "cell_type": "code",
   "execution_count": 22,
   "id": "ca319532",
   "metadata": {},
   "outputs": [
    {
     "data": {
      "text/plain": [
       "torch.Size([64, 3, 256, 256])"
      ]
     },
     "execution_count": 22,
     "metadata": {},
     "output_type": "execute_result"
    }
   ],
   "source": [
    "images.shape"
   ]
  },
  {
   "cell_type": "code",
   "execution_count": 8,
   "id": "b1cb17dd",
   "metadata": {},
   "outputs": [
    {
     "data": {
      "text/plain": [
       "torch.Size([64, 13])"
      ]
     },
     "execution_count": 8,
     "metadata": {},
     "output_type": "execute_result"
    }
   ],
   "source": [
    "title.shape"
   ]
  },
  {
   "cell_type": "code",
   "execution_count": 9,
   "id": "65e51810",
   "metadata": {},
   "outputs": [
    {
     "data": {
      "text/plain": [
       "torch.Size([64, 127])"
      ]
     },
     "execution_count": 9,
     "metadata": {},
     "output_type": "execute_result"
    }
   ],
   "source": [
    "ing.shape"
   ]
  },
  {
   "cell_type": "code",
   "execution_count": 10,
   "id": "c259e7ac",
   "metadata": {},
   "outputs": [
    {
     "data": {
      "text/plain": [
       "torch.Size([64, 539])"
      ]
     },
     "execution_count": 10,
     "metadata": {},
     "output_type": "execute_result"
    }
   ],
   "source": [
    "ins.shape"
   ]
  },
  {
   "cell_type": "code",
   "execution_count": 11,
   "id": "fa4c2713",
   "metadata": {},
   "outputs": [
    {
     "data": {
      "text/plain": [
       "('17eaddfbf3.jpg',\n",
       " '8c9b0fb748.jpg',\n",
       " 'd3c3a8c33b.jpg',\n",
       " '39397c56db.jpg',\n",
       " 'acaa9bb2de.jpg',\n",
       " 'c9bd3de7bb.jpg',\n",
       " '11879b5362.jpg',\n",
       " '4475da7c07.jpg',\n",
       " '0ee70edb8e.jpg',\n",
       " '9d65cefbf7.jpg',\n",
       " '7e6cafe6e1.jpg',\n",
       " '324f10bd2a.jpg',\n",
       " '9f272b3cc2.jpg',\n",
       " 'e123f2702a.jpg',\n",
       " 'fd69b3fc8c.jpg',\n",
       " '680d93fbfb.jpg',\n",
       " 'c8f885303f.jpg',\n",
       " 'a87e196a61.jpg',\n",
       " '7e5b33c749.jpg',\n",
       " '6b0d011184.jpg',\n",
       " '03d3295718.jpg',\n",
       " '0646b12f6e.jpg',\n",
       " 'ad5cad0597.jpg',\n",
       " '7207d4ad29.jpg',\n",
       " '23465ada0d.jpg',\n",
       " '454ae660a3.jpg',\n",
       " '2cde88454b.jpg',\n",
       " 'ae3d29a7fa.jpg',\n",
       " '40bf460fdd.jpg',\n",
       " '4f5468d7ba.jpg',\n",
       " '98b04298e2.jpg',\n",
       " '1786b6aab2.jpg',\n",
       " 'd6481a3c14.jpg',\n",
       " '89fcacc6d0.jpg',\n",
       " '8e027d720d.jpg',\n",
       " '0a533953b7.jpg',\n",
       " '8ffbcda29d.jpg',\n",
       " '57f457efe2.jpg',\n",
       " 'ce86bc003b.jpg',\n",
       " '0e7adef3e9.jpg',\n",
       " '3520376567.jpg',\n",
       " 'fc602a64bf.jpg',\n",
       " 'f89a238420.jpg',\n",
       " '95b1741514.jpg',\n",
       " 'ef28768663.jpg',\n",
       " '0fb3e2b4b6.jpg',\n",
       " 'd00036ecd7.jpg',\n",
       " '2411014fed.jpg',\n",
       " 'a520954a67.jpg',\n",
       " 'f378ccb7c3.jpg',\n",
       " '68512f4242.jpg',\n",
       " '0601f95d53.jpg',\n",
       " '3c77b7ea31.jpg',\n",
       " '564182bd65.jpg',\n",
       " '6fc8230361.jpg',\n",
       " 'a7a7272820.jpg',\n",
       " '61b524444f.jpg',\n",
       " '8d9c13c85f.jpg',\n",
       " '37619fd55e.jpg',\n",
       " 'cf75a0d7e2.jpg',\n",
       " 'f06b67790e.jpg',\n",
       " '91ed58c776.jpg',\n",
       " '0c3d140323.jpg',\n",
       " '76ac27191f.jpg')"
      ]
     },
     "execution_count": 11,
     "metadata": {},
     "output_type": "execute_result"
    }
   ],
   "source": [
    "img_id"
   ]
  },
  {
   "cell_type": "code",
   "execution_count": 16,
   "id": "da120234",
   "metadata": {},
   "outputs": [
    {
     "data": {
      "text/plain": [
       "'~/val\\\\1\\\\7\\\\e\\\\a\\\\17eaddfbf3.jpg'"
      ]
     },
     "execution_count": 16,
     "metadata": {},
     "output_type": "execute_result"
    }
   ],
   "source": [
    "find_img_path(img_id[0])"
   ]
  },
  {
   "cell_type": "code",
   "execution_count": 127,
   "id": "93cea795",
   "metadata": {},
   "outputs": [],
   "source": [
    "channel_mean = torch.zeros(1,3,256,256)\n",
    "channel_std = torch.zeros(1,3,256,256)\n",
    "for i in range(3):\n",
    "    channel_mean[0,i,:,:] = torch.mean(images[:,i,:,:], dim = 0, keepdim=True) \n",
    "    channel_std[0,i,:,:] = torch.std(images[:,i,:,:], dim = 0, keepdim=True) \n",
    "        "
   ]
  },
  {
   "cell_type": "code",
   "execution_count": 133,
   "id": "f5c6d915",
   "metadata": {},
   "outputs": [
    {
     "name": "stdout",
     "output_type": "stream",
     "text": [
      "torch.Size([1, 3, 256, 256])\n"
     ]
    },
    {
     "data": {
      "text/plain": [
       "tensor([[ 0.3774,  0.1051, -0.1764]])"
      ]
     },
     "execution_count": 133,
     "metadata": {},
     "output_type": "execute_result"
    }
   ],
   "source": [
    "print(channel_mean.shape)\n",
    "torch.mean(channel_mean, dim = [2, 3], keepdim=False)"
   ]
  },
  {
   "cell_type": "code",
   "execution_count": 134,
   "id": "36c85a64",
   "metadata": {},
   "outputs": [
    {
     "name": "stdout",
     "output_type": "stream",
     "text": [
      "torch.Size([1, 3, 256, 256])\n"
     ]
    },
    {
     "data": {
      "text/plain": [
       "tensor([[1.1593, 1.1756, 1.1958]])"
      ]
     },
     "execution_count": 134,
     "metadata": {},
     "output_type": "execute_result"
    }
   ],
   "source": [
    "print(channel_std.shape)\n",
    "torch.mean(channel_std, dim = [2, 3], keepdim=False)"
   ]
  }
 ],
 "metadata": {
  "kernelspec": {
   "display_name": "Python 3 (ipykernel)",
   "language": "python",
   "name": "python3"
  },
  "language_info": {
   "codemirror_mode": {
    "name": "ipython",
    "version": 3
   },
   "file_extension": ".py",
   "mimetype": "text/x-python",
   "name": "python",
   "nbconvert_exporter": "python",
   "pygments_lexer": "ipython3",
   "version": "3.9.7"
  }
 },
 "nbformat": 4,
 "nbformat_minor": 5
}
