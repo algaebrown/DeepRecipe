{
 "cells": [
  {
   "cell_type": "code",
   "execution_count": 1,
   "id": "09378ad6",
   "metadata": {},
   "outputs": [],
   "source": [
    "from dataloader import *"
   ]
  },
  {
   "cell_type": "code",
   "execution_count": 2,
   "id": "540c8089",
   "metadata": {},
   "outputs": [],
   "source": [
    "import json\n",
    "config_data = json.load(open('default.json', 'r'))"
   ]
  },
  {
   "cell_type": "code",
   "execution_count": 3,
   "id": "a355aaef",
   "metadata": {},
   "outputs": [
    {
     "name": "stdout",
     "output_type": "stream",
     "text": [
      "Using the saved vocab.\n"
     ]
    },
    {
     "name": "stderr",
     "output_type": "stream",
     "text": [
      "/opt/conda/lib/python3.9/site-packages/torchvision/transforms/transforms.py:280: UserWarning: Argument interpolation should be of type InterpolationMode instead of int. Please, use InterpolationMode enum.\n",
      "  warnings.warn(\n"
     ]
    }
   ],
   "source": [
    "vocab, train_data_loader, val_data_loader, test_data_loader = get_datasets(config_data)"
   ]
  },
  {
   "cell_type": "code",
   "execution_count": 4,
   "id": "f39db47f",
   "metadata": {},
   "outputs": [
    {
     "data": {
      "text/plain": [
       "<torch.utils.data.dataloader.DataLoader at 0x7f35570a4cd0>"
      ]
     },
     "execution_count": 4,
     "metadata": {},
     "output_type": "execute_result"
    }
   ],
   "source": [
    "train_data_loader"
   ]
  },
  {
   "cell_type": "code",
   "execution_count": 5,
   "id": "55c3167e",
   "metadata": {},
   "outputs": [],
   "source": [
    "for i, (images, title, ing, ins, img_id) in enumerate(train_data_loader):\n",
    "    break"
   ]
  },
  {
   "cell_type": "code",
   "execution_count": 6,
   "id": "ca319532",
   "metadata": {},
   "outputs": [
    {
     "data": {
      "text/plain": [
       "torch.Size([64, 3, 256, 256])"
      ]
     },
     "execution_count": 6,
     "metadata": {},
     "output_type": "execute_result"
    }
   ],
   "source": [
    "images.shape"
   ]
  },
  {
   "cell_type": "code",
   "execution_count": 7,
   "id": "b1cb17dd",
   "metadata": {},
   "outputs": [
    {
     "data": {
      "text/plain": [
       "torch.Size([64, 15])"
      ]
     },
     "execution_count": 7,
     "metadata": {},
     "output_type": "execute_result"
    }
   ],
   "source": [
    "title.shape"
   ]
  },
  {
   "cell_type": "code",
   "execution_count": 8,
   "id": "65e51810",
   "metadata": {},
   "outputs": [
    {
     "data": {
      "text/plain": [
       "torch.Size([64, 151])"
      ]
     },
     "execution_count": 8,
     "metadata": {},
     "output_type": "execute_result"
    }
   ],
   "source": [
    "ing.shape"
   ]
  },
  {
   "cell_type": "code",
   "execution_count": 9,
   "id": "c259e7ac",
   "metadata": {},
   "outputs": [
    {
     "data": {
      "text/plain": [
       "torch.Size([64, 847])"
      ]
     },
     "execution_count": 9,
     "metadata": {},
     "output_type": "execute_result"
    }
   ],
   "source": [
    "ins.shape"
   ]
  },
  {
   "cell_type": "code",
   "execution_count": 10,
   "id": "fa4c2713",
   "metadata": {},
   "outputs": [
    {
     "data": {
      "text/plain": [
       "('24b0d9e0e0.jpg',\n",
       " '263a216a38.jpg',\n",
       " '1ce25b8daa.jpg',\n",
       " '1a3687d3b7.jpg',\n",
       " '64c65e143a.jpg',\n",
       " 'b9c3384e78.jpg',\n",
       " '17b4354f2b.jpg',\n",
       " '1c54378de3.jpg',\n",
       " '9626c036fb.jpg',\n",
       " '090aaba928.jpg',\n",
       " 'c383251179.jpg',\n",
       " 'f3eaec2479.jpg',\n",
       " '26a8a17d77.jpg',\n",
       " 'a6a2de8b85.jpg',\n",
       " '3adc77f6bc.jpg',\n",
       " '1604c7ea34.jpg',\n",
       " '04b3e1348c.jpg',\n",
       " '454b3c3fb9.jpg',\n",
       " '2003cb7314.jpg',\n",
       " '130bf469b0.jpg',\n",
       " 'cdc4253f73.jpg',\n",
       " '181267a9a9.jpg',\n",
       " '51a6ae2119.jpg',\n",
       " '3ddb7cb52f.jpg',\n",
       " 'e47b0ed2d3.jpg',\n",
       " '503a2f1430.jpg',\n",
       " 'adade13e95.jpg',\n",
       " '5b7a87edd2.jpg',\n",
       " '5ca2c4772a.jpg',\n",
       " 'a569a12ba8.jpg',\n",
       " 'b791bc6585.jpg',\n",
       " 'e2a920e259.jpg',\n",
       " 'c99b71785e.jpg',\n",
       " '47c058419a.jpg',\n",
       " 'ab6f57adfe.jpg',\n",
       " 'abbd3fc587.jpg',\n",
       " 'b294d6743a.jpg',\n",
       " 'ee45f0625c.jpg',\n",
       " '991ad991bf.jpg',\n",
       " 'bf53b5e37b.jpg',\n",
       " '6991f5acea.jpg',\n",
       " '82c18bdeff.jpg',\n",
       " '47cb9c3231.jpg',\n",
       " 'f802d6bd70.jpg',\n",
       " 'e2cb365537.jpg',\n",
       " 'b5daea0750.jpg',\n",
       " '86a8ac494c.jpg',\n",
       " '5492dfc713.jpg',\n",
       " '87873c85b4.jpg',\n",
       " '670f14b5c1.jpg',\n",
       " '1c39f65cdc.jpg',\n",
       " 'f3dbb408cd.jpg',\n",
       " 'd09c7276c6.jpg',\n",
       " '67f0e9bb19.jpg',\n",
       " '149013bc01.jpg',\n",
       " '6fb682b844.jpg',\n",
       " 'a040895edc.jpg',\n",
       " '5c5ad3b137.jpg',\n",
       " 'b41d267dd5.jpg',\n",
       " 'b73363e5bc.jpg',\n",
       " '90c12b6ef0.jpg',\n",
       " 'c03878b4a8.jpg',\n",
       " '157b68b6ad.jpg',\n",
       " '64538282ad.jpg')"
      ]
     },
     "execution_count": 10,
     "metadata": {},
     "output_type": "execute_result"
    }
   ],
   "source": [
    "img_id"
   ]
  },
  {
   "cell_type": "code",
   "execution_count": 12,
   "id": "da120234",
   "metadata": {},
   "outputs": [
    {
     "data": {
      "text/plain": [
       "'~/val/2/4/b/0/24b0d9e0e0.jpg'"
      ]
     },
     "execution_count": 12,
     "metadata": {},
     "output_type": "execute_result"
    }
   ],
   "source": [
    "find_img_path(img_id[0])"
   ]
  },
  {
   "cell_type": "code",
   "execution_count": null,
   "id": "93cea795",
   "metadata": {},
   "outputs": [],
   "source": []
  }
 ],
 "metadata": {
  "kernelspec": {
   "display_name": "Python 3 (clean)",
   "language": "python",
   "name": "python3_clean"
  },
  "language_info": {
   "codemirror_mode": {
    "name": "ipython",
    "version": 3
   },
   "file_extension": ".py",
   "mimetype": "text/x-python",
   "name": "python",
   "nbconvert_exporter": "python",
   "pygments_lexer": "ipython3",
   "version": "3.9.5"
  }
 },
 "nbformat": 4,
 "nbformat_minor": 5
}
